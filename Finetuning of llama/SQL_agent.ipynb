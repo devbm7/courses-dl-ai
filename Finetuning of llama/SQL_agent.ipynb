{
 "cells": [
  {
   "cell_type": "code",
   "execution_count": 5,
   "metadata": {},
   "outputs": [],
   "source": [
    "import lamini \n",
    "import logging\n",
    "import sqlite3\n",
    "import pandas as pd\n",
    "from util.get_schema import get_schema\n",
    "from util.make_llama_3_prompt import make_llama_3_prompt\n",
    "from util.setup_logging import setup_logging\n",
    "\n",
    "logger = logging.getLogger(__name__)\n",
    "engine = sqlite3.connect(\"./nba_roster.db\")\n",
    "setup_logging()"
   ]
  },
  {
   "cell_type": "code",
   "execution_count": 14,
   "metadata": {},
   "outputs": [],
   "source": [
    "lamini.api_key = \"e650b0aaad19a8ac43752657c882cc3405398636449d41b947d80c399f1d0407\"\n",
    "llm = lamini.Lamini(model_name=\"meta-llama/Meta-Llama-3-8B-Instruct\")"
   ]
  },
  {
   "cell_type": "code",
   "execution_count": 15,
   "metadata": {},
   "outputs": [],
   "source": [
    "# Meta Llama 3 Instruct uses a prompt template, with special tags used to indicate the user query and system prompt. \n",
    "# You can find the documentation on this [model card](https://llama.meta.com/docs/model-cards-and-prompt-formats/meta-llama-3/#meta-llama-3-instruct).\n",
    "def make_llama_3_prompt(user, system=\"\"):\n",
    "    system_prompt = \"\"\n",
    "    if system != \"\":\n",
    "        system_prompt = (\n",
    "            f\"<|start_header_id|>system<|end_header_id|>\\n\\n{system}<|eot_id|>\"\n",
    "        )\n",
    "    return f\"<|begin_of_text|>{system_prompt}<|start_header_id|>user<|end_header_id|>\\n\\n{user}<|eot_id|><|start_header_id|>assistant<|end_header_id|>\\n\\n\""
   ]
  },
  {
   "cell_type": "code",
   "execution_count": 16,
   "metadata": {},
   "outputs": [],
   "source": [
    "def get_schema():\n",
    "    return \"\"\"\\\n",
    "0|Team|TEXT \n",
    "1|NAME|TEXT  \n",
    "2|Jersey|TEXT \n",
    "3|POS|TEXT\n",
    "4|AGE|INT \n",
    "5|HT|TEXT \n",
    "6|WT|TEXT \n",
    "7|COLLEGE|TEXT \n",
    "8|SALARY|TEXT eg. \n",
    "\"\"\""
   ]
  },
  {
   "cell_type": "code",
   "execution_count": 17,
   "metadata": {},
   "outputs": [],
   "source": [
    "user = \"\"\"Who is the highest paid NBA player?\"\"\""
   ]
  },
  {
   "cell_type": "code",
   "execution_count": 18,
   "metadata": {},
   "outputs": [],
   "source": [
    "system = f\"\"\"You are an NBA analyst with 15 years of experience writing complex SQL queries. Consider the nba_roster table with the following schema:\n",
    "{get_schema()}\n",
    "\n",
    "Write a sqlite query to answer the following question. Follow instructions exactly\"\"\""
   ]
  },
  {
   "cell_type": "code",
   "execution_count": 19,
   "metadata": {},
   "outputs": [
    {
     "name": "stdout",
     "output_type": "stream",
     "text": [
      "You are an NBA analyst with 15 years of experience writing complex SQL queries. Consider the nba_roster table with the following schema:\n",
      "0|Team|TEXT \n",
      "1|NAME|TEXT  \n",
      "2|Jersey|TEXT \n",
      "3|POS|TEXT\n",
      "4|AGE|INT \n",
      "5|HT|TEXT \n",
      "6|WT|TEXT \n",
      "7|COLLEGE|TEXT \n",
      "8|SALARY|TEXT eg. \n",
      "\n",
      "\n",
      "Write a sqlite query to answer the following question. Follow instructions exactly\n"
     ]
    }
   ],
   "source": [
    "print(system)"
   ]
  },
  {
   "cell_type": "code",
   "execution_count": 20,
   "metadata": {},
   "outputs": [],
   "source": [
    "prompt = make_llama_3_prompt(user, system)"
   ]
  },
  {
   "cell_type": "code",
   "execution_count": 21,
   "metadata": {},
   "outputs": [
    {
     "name": "stdout",
     "output_type": "stream",
     "text": [
      "To answer this question, we can use the following SQLite query:\n",
      "\n",
      "```sql\n",
      "SELECT NAME, SALARY\n",
      "FROM nba_roster\n",
      "ORDER BY SALARY DESC\n",
      "LIMIT 1;\n",
      "```\n",
      "\n",
      "This query will return the name and salary of the highest paid NBA player. The `ORDER BY SALARY DESC` clause sorts the players by their salary in descending order (highest to lowest), and the `LIMIT 1` clause ensures that we only get the top result.\n"
     ]
    }
   ],
   "source": [
    "print(llm.generate(prompt, max_new_tokens=200))"
   ]
  },
  {
   "cell_type": "code",
   "execution_count": 22,
   "metadata": {},
   "outputs": [],
   "source": [
    "def get_updated_schema():\n",
    "    return \"\"\"\\\n",
    "0|Team|TEXT eg. \"Toronto Raptors\"\n",
    "1|NAME|TEXT eg. \"Otto Porter Jr.\"\n",
    "2|Jersey|TEXT eg. \"0\" and when null has a value \"NA\"\n",
    "3|POS|TEXT eg. \"PF\"\n",
    "4|AGE|INT eg. \"22\" in years\n",
    "5|HT|TEXT eg. `6' 7\"` or `6' 10\"`\n",
    "6|WT|TEXT eg. \"232 lbs\" \n",
    "7|COLLEGE|TEXT eg. \"Michigan\" and when null has a value \"--\"\n",
    "8|SALARY|TEXT eg. \"$9,945,830\" and when null has a value \"--\"\n",
    "\"\"\""
   ]
  },
  {
   "cell_type": "code",
   "execution_count": 23,
   "metadata": {},
   "outputs": [],
   "source": [
    "prompt = make_llama_3_prompt(user, system)"
   ]
  },
  {
   "cell_type": "code",
   "execution_count": 24,
   "metadata": {},
   "outputs": [
    {
     "name": "stdout",
     "output_type": "stream",
     "text": [
      "<|begin_of_text|><|start_header_id|>system<|end_header_id|>\n",
      "\n",
      "You are an NBA analyst with 15 years of experience writing complex SQL queries. Consider the nba_roster table with the following schema:\n",
      "0|Team|TEXT \n",
      "1|NAME|TEXT  \n",
      "2|Jersey|TEXT \n",
      "3|POS|TEXT\n",
      "4|AGE|INT \n",
      "5|HT|TEXT \n",
      "6|WT|TEXT \n",
      "7|COLLEGE|TEXT \n",
      "8|SALARY|TEXT eg. \n",
      "\n",
      "\n",
      "Write a sqlite query to answer the following question. Follow instructions exactly<|eot_id|><|start_header_id|>user<|end_header_id|>\n",
      "\n",
      "Who is the highest paid NBA player?<|eot_id|><|start_header_id|>assistant<|end_header_id|>\n",
      "\n",
      "\n"
     ]
    }
   ],
   "source": [
    "print(prompt)"
   ]
  },
  {
   "cell_type": "code",
   "execution_count": 25,
   "metadata": {},
   "outputs": [
    {
     "name": "stdout",
     "output_type": "stream",
     "text": [
      "To answer this question, we can use the following SQLite query:\n",
      "\n",
      "```sql\n",
      "SELECT NAME, SALARY\n",
      "FROM nba_roster\n",
      "ORDER BY SALARY DESC\n",
      "LIMIT 1;\n",
      "```\n",
      "\n",
      "This query will return the name and salary of the highest paid NBA player. The `ORDER BY SALARY DESC` clause sorts the players by their salary in descending order (highest to lowest), and the `LIMIT 1` clause ensures that we only get the top result.\n"
     ]
    }
   ],
   "source": [
    "print(llm.generate(prompt, max_new_tokens=200))"
   ]
  },
  {
   "cell_type": "code",
   "execution_count": 26,
   "metadata": {},
   "outputs": [],
   "source": [
    "result = llm.generate(prompt, output_type={\"sqlite_query\": \"str\"}, max_new_tokens=200)"
   ]
  },
  {
   "cell_type": "code",
   "execution_count": 27,
   "metadata": {},
   "outputs": [
    {
     "data": {
      "text/plain": [
       "{'sqlite_query': 'SELECT NAME, SALARY FROM nba_roster ORDER BY SALARY DESC LIMIT 1'}"
      ]
     },
     "execution_count": 27,
     "metadata": {},
     "output_type": "execute_result"
    }
   ],
   "source": [
    "result"
   ]
  },
  {
   "cell_type": "code",
   "execution_count": 28,
   "metadata": {},
   "outputs": [],
   "source": [
    "df = pd.read_sql(result['sqlite_query'], con=engine)"
   ]
  },
  {
   "cell_type": "code",
   "execution_count": 29,
   "metadata": {},
   "outputs": [
    {
     "data": {
      "text/html": [
       "<div>\n",
       "<style scoped>\n",
       "    .dataframe tbody tr th:only-of-type {\n",
       "        vertical-align: middle;\n",
       "    }\n",
       "\n",
       "    .dataframe tbody tr th {\n",
       "        vertical-align: top;\n",
       "    }\n",
       "\n",
       "    .dataframe thead th {\n",
       "        text-align: right;\n",
       "    }\n",
       "</style>\n",
       "<table border=\"1\" class=\"dataframe\">\n",
       "  <thead>\n",
       "    <tr style=\"text-align: right;\">\n",
       "      <th></th>\n",
       "      <th>NAME</th>\n",
       "      <th>SALARY</th>\n",
       "    </tr>\n",
       "  </thead>\n",
       "  <tbody>\n",
       "    <tr>\n",
       "      <th>0</th>\n",
       "      <td>Trent Forrest</td>\n",
       "      <td>--</td>\n",
       "    </tr>\n",
       "  </tbody>\n",
       "</table>\n",
       "</div>"
      ],
      "text/plain": [
       "            NAME SALARY\n",
       "0  Trent Forrest     --"
      ]
     },
     "execution_count": 29,
     "metadata": {},
     "output_type": "execute_result"
    }
   ],
   "source": [
    "df"
   ]
  },
  {
   "cell_type": "code",
   "execution_count": 30,
   "metadata": {},
   "outputs": [
    {
     "name": "stdout",
     "output_type": "stream",
     "text": [
      "        SALARY           NAME\n",
      "0  $51,915,615  Stephen Curry\n"
     ]
    }
   ],
   "source": [
    "query=\"\"\"SELECT salary, name \n",
    "FROM nba_roster \n",
    "WHERE salary != '--' \n",
    "ORDER BY CAST(REPLACE(REPLACE(salary, '$', ''), ',','') AS INTEGER) DESC \n",
    "LIMIT 1;\"\"\"\n",
    "df = pd.read_sql(query, con=engine)\n",
    "print(df)"
   ]
  }
 ],
 "metadata": {
  "kernelspec": {
   "display_name": "Python 3",
   "language": "python",
   "name": "python3"
  },
  "language_info": {
   "codemirror_mode": {
    "name": "ipython",
    "version": 3
   },
   "file_extension": ".py",
   "mimetype": "text/x-python",
   "name": "python",
   "nbconvert_exporter": "python",
   "pygments_lexer": "ipython3",
   "version": "3.11.9"
  }
 },
 "nbformat": 4,
 "nbformat_minor": 2
}
