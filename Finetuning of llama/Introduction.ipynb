{
  "nbformat": 4,
  "nbformat_minor": 0,
  "metadata": {
    "colab": {
      "provenance": []
    },
    "kernelspec": {
      "name": "python3",
      "display_name": "Python 3"
    },
    "language_info": {
      "name": "python"
    }
  },
  "cells": [
    {
      "cell_type": "code",
      "source": [
        "!pip install lamini"
      ],
      "metadata": {
        "colab": {
          "base_uri": "https://localhost:8080/"
        },
        "id": "cP-MEYKqF8Dn",
        "outputId": "3c0362cf-e7e2-475d-d1ee-4a8074311a06"
      },
      "execution_count": 4,
      "outputs": [
        {
          "output_type": "stream",
          "name": "stdout",
          "text": [
            "Collecting lamini\n",
            "  Downloading lamini-3.2.4-17-py3-none-any.whl.metadata (1.6 kB)\n",
            "Collecting lamini-configuration[yaml] (from lamini)\n",
            "  Downloading lamini_configuration-0.8.3-py3-none-any.whl.metadata (11 kB)\n",
            "Requirement already satisfied: requests in /usr/local/lib/python3.10/dist-packages (from lamini) (2.32.3)\n",
            "Requirement already satisfied: tqdm in /usr/local/lib/python3.10/dist-packages (from lamini) (4.67.1)\n",
            "Requirement already satisfied: numpy<2.0.0 in /usr/local/lib/python3.10/dist-packages (from lamini) (1.26.4)\n",
            "Collecting jsonlines (from lamini)\n",
            "  Downloading jsonlines-4.0.0-py3-none-any.whl.metadata (1.6 kB)\n",
            "Requirement already satisfied: pandas in /usr/local/lib/python3.10/dist-packages (from lamini) (2.2.2)\n",
            "Collecting azure-storage-blob (from lamini)\n",
            "  Downloading azure_storage_blob-12.24.0-py3-none-any.whl.metadata (26 kB)\n",
            "Requirement already satisfied: scikit-learn in /usr/local/lib/python3.10/dist-packages (from lamini) (1.6.0)\n",
            "Requirement already satisfied: aiohttp in /usr/local/lib/python3.10/dist-packages (from lamini) (3.11.11)\n",
            "Requirement already satisfied: aiohappyeyeballs>=2.3.0 in /usr/local/lib/python3.10/dist-packages (from aiohttp->lamini) (2.4.4)\n",
            "Requirement already satisfied: aiosignal>=1.1.2 in /usr/local/lib/python3.10/dist-packages (from aiohttp->lamini) (1.3.2)\n",
            "Requirement already satisfied: async-timeout<6.0,>=4.0 in /usr/local/lib/python3.10/dist-packages (from aiohttp->lamini) (4.0.3)\n",
            "Requirement already satisfied: attrs>=17.3.0 in /usr/local/lib/python3.10/dist-packages (from aiohttp->lamini) (24.3.0)\n",
            "Requirement already satisfied: frozenlist>=1.1.1 in /usr/local/lib/python3.10/dist-packages (from aiohttp->lamini) (1.5.0)\n",
            "Requirement already satisfied: multidict<7.0,>=4.5 in /usr/local/lib/python3.10/dist-packages (from aiohttp->lamini) (6.1.0)\n",
            "Requirement already satisfied: propcache>=0.2.0 in /usr/local/lib/python3.10/dist-packages (from aiohttp->lamini) (0.2.1)\n",
            "Requirement already satisfied: yarl<2.0,>=1.17.0 in /usr/local/lib/python3.10/dist-packages (from aiohttp->lamini) (1.18.3)\n",
            "Collecting azure-core>=1.30.0 (from azure-storage-blob->lamini)\n",
            "  Downloading azure_core-1.32.0-py3-none-any.whl.metadata (39 kB)\n",
            "Requirement already satisfied: cryptography>=2.1.4 in /usr/local/lib/python3.10/dist-packages (from azure-storage-blob->lamini) (43.0.3)\n",
            "Requirement already satisfied: typing-extensions>=4.6.0 in /usr/local/lib/python3.10/dist-packages (from azure-storage-blob->lamini) (4.12.2)\n",
            "Collecting isodate>=0.6.1 (from azure-storage-blob->lamini)\n",
            "  Downloading isodate-0.7.2-py3-none-any.whl.metadata (11 kB)\n",
            "Requirement already satisfied: pyyaml<7.0,>=6.0 in /usr/local/lib/python3.10/dist-packages (from lamini-configuration[yaml]->lamini) (6.0.2)\n",
            "Requirement already satisfied: python-dateutil>=2.8.2 in /usr/local/lib/python3.10/dist-packages (from pandas->lamini) (2.8.2)\n",
            "Requirement already satisfied: pytz>=2020.1 in /usr/local/lib/python3.10/dist-packages (from pandas->lamini) (2024.2)\n",
            "Requirement already satisfied: tzdata>=2022.7 in /usr/local/lib/python3.10/dist-packages (from pandas->lamini) (2024.2)\n",
            "Requirement already satisfied: charset-normalizer<4,>=2 in /usr/local/lib/python3.10/dist-packages (from requests->lamini) (3.4.1)\n",
            "Requirement already satisfied: idna<4,>=2.5 in /usr/local/lib/python3.10/dist-packages (from requests->lamini) (3.10)\n",
            "Requirement already satisfied: urllib3<3,>=1.21.1 in /usr/local/lib/python3.10/dist-packages (from requests->lamini) (2.3.0)\n",
            "Requirement already satisfied: certifi>=2017.4.17 in /usr/local/lib/python3.10/dist-packages (from requests->lamini) (2024.12.14)\n",
            "Requirement already satisfied: scipy>=1.6.0 in /usr/local/lib/python3.10/dist-packages (from scikit-learn->lamini) (1.13.1)\n",
            "Requirement already satisfied: joblib>=1.2.0 in /usr/local/lib/python3.10/dist-packages (from scikit-learn->lamini) (1.4.2)\n",
            "Requirement already satisfied: threadpoolctl>=3.1.0 in /usr/local/lib/python3.10/dist-packages (from scikit-learn->lamini) (3.5.0)\n",
            "Requirement already satisfied: six>=1.11.0 in /usr/local/lib/python3.10/dist-packages (from azure-core>=1.30.0->azure-storage-blob->lamini) (1.17.0)\n",
            "Requirement already satisfied: cffi>=1.12 in /usr/local/lib/python3.10/dist-packages (from cryptography>=2.1.4->azure-storage-blob->lamini) (1.17.1)\n",
            "Requirement already satisfied: pycparser in /usr/local/lib/python3.10/dist-packages (from cffi>=1.12->cryptography>=2.1.4->azure-storage-blob->lamini) (2.22)\n",
            "Downloading lamini-3.2.4-17-py3-none-any.whl (697 kB)\n",
            "\u001b[2K   \u001b[90m━━━━━━━━━━━━━━━━━━━━━━━━━━━━━━━━━━━━━━━━\u001b[0m \u001b[32m697.9/697.9 kB\u001b[0m \u001b[31m13.8 MB/s\u001b[0m eta \u001b[36m0:00:00\u001b[0m\n",
            "\u001b[?25hDownloading azure_storage_blob-12.24.0-py3-none-any.whl (408 kB)\n",
            "\u001b[2K   \u001b[90m━━━━━━━━━━━━━━━━━━━━━━━━━━━━━━━━━━━━━━━━\u001b[0m \u001b[32m408.6/408.6 kB\u001b[0m \u001b[31m28.0 MB/s\u001b[0m eta \u001b[36m0:00:00\u001b[0m\n",
            "\u001b[?25hDownloading jsonlines-4.0.0-py3-none-any.whl (8.7 kB)\n",
            "Downloading azure_core-1.32.0-py3-none-any.whl (198 kB)\n",
            "\u001b[2K   \u001b[90m━━━━━━━━━━━━━━━━━━━━━━━━━━━━━━━━━━━━━━━━\u001b[0m \u001b[32m198.9/198.9 kB\u001b[0m \u001b[31m12.2 MB/s\u001b[0m eta \u001b[36m0:00:00\u001b[0m\n",
            "\u001b[?25hDownloading isodate-0.7.2-py3-none-any.whl (22 kB)\n",
            "Downloading lamini_configuration-0.8.3-py3-none-any.whl (22 kB)\n",
            "Installing collected packages: lamini-configuration, jsonlines, isodate, azure-core, azure-storage-blob, lamini\n",
            "Successfully installed azure-core-1.32.0 azure-storage-blob-12.24.0 isodate-0.7.2 jsonlines-4.0.0 lamini-3.2.4 lamini-configuration-0.8.3\n"
          ]
        }
      ]
    },
    {
      "cell_type": "code",
      "execution_count": 14,
      "metadata": {
        "id": "Vjz7eNrMDWtD"
      },
      "outputs": [],
      "source": [
        "import lamini"
      ]
    },
    {
      "cell_type": "code",
      "source": [
        "lamini.api_key = \"e650b0aaad19a8ac43752657c882cc3405398636449d41b947d80c399f1d0407\"\n",
        "llm = lamini.Lamini(model_name=\"meta-llama/Meta-Llama-3-8B-Instruct\")"
      ],
      "metadata": {
        "id": "Ockq4qS0EHSm"
      },
      "execution_count": 15,
      "outputs": []
    },
    {
      "cell_type": "code",
      "source": [
        "prompt = \"\"\"\\\n",
        "<|begin_of_text|><|start_header_id|>system<|end_header_id|>\n",
        "\n",
        "You are a helpful assistant.<|eot_id|><|start_header_id|>user<|end_header_id|>\n",
        "\n",
        "Please write a birthday card for my good friend Andrew\\\n",
        "<|eot_id|><|start_header_id|>assistant<|end_header_id|>\n",
        "\n",
        "\"\"\"\n"
      ],
      "metadata": {
        "id": "yYDOD-86I7zb"
      },
      "execution_count": 16,
      "outputs": []
    },
    {
      "cell_type": "code",
      "source": [
        "result = llm.generate(prompt, max_new_tokens=200)\n",
        "print(result)"
      ],
      "metadata": {
        "colab": {
          "base_uri": "https://localhost:8080/"
        },
        "id": "RNIrU2xtZ_Uy",
        "outputId": "a4c50ecf-21f5-4d26-f08e-f8b6f00877df"
      },
      "execution_count": 17,
      "outputs": [
        {
          "output_type": "stream",
          "name": "stdout",
          "text": [
            "Here's a birthday card message for your friend Andrew:\n",
            "\n",
            "\"Happy birthday to an amazing friend like you, Andrew!\n",
            "\n",
            "On your special day and always, I want you to know how much you mean to me. You bring so much joy, laughter, and adventure into my life, and I'm grateful for our friendship every day.\n",
            "\n",
            "Here's to another year of making unforgettable memories, trying new things, and creating more inside jokes. You deserve all the best, and I hope your birthday is as awesome as you are!\n",
            "\n",
            "Cheers to you, my friend! \"\n",
            "\n",
            "Feel free to modify it as you see fit, and I hope Andrew loves it!\n"
          ]
        }
      ]
    },
    {
      "cell_type": "code",
      "source": [
        "prompt2 = (\n",
        "    \"<|begin_of_text|>\"  # Start of prompt\n",
        "    \"<|start_header_id|>system<|end_header_id|>\\n\\n\"  #  header - system\n",
        "    \"You are a helpful assistant.\"  # system prompt\n",
        "    \"<|eot_id|>\" # end of turn\n",
        "    \"<|start_header_id|>user<|end_header_id|>\\n\\n\" # header - user\n",
        "    \"Please write a birthday card for my good friend Andrew\"\n",
        "    \"<|eot_id|>\" # end of turn\n",
        "    \"<|start_header_id|>assistant<|end_header_id|>\\n\\n\" # header - assistant\n",
        "    )\n",
        "print(prompt2)"
      ],
      "metadata": {
        "colab": {
          "base_uri": "https://localhost:8080/"
        },
        "id": "dBByuet0bafS",
        "outputId": "46056366-f55e-4ab8-f0ae-d62756fadfb8"
      },
      "execution_count": 18,
      "outputs": [
        {
          "output_type": "stream",
          "name": "stdout",
          "text": [
            "<|begin_of_text|><|start_header_id|>system<|end_header_id|>\n",
            "\n",
            "You are a helpful assistant.<|eot_id|><|start_header_id|>user<|end_header_id|>\n",
            "\n",
            "Please write a birthday card for my good friend Andrew<|eot_id|><|start_header_id|>assistant<|end_header_id|>\n",
            "\n",
            "\n"
          ]
        }
      ]
    },
    {
      "cell_type": "code",
      "source": [
        "prompt == prompt2"
      ],
      "metadata": {
        "colab": {
          "base_uri": "https://localhost:8080/"
        },
        "id": "zyaRWdtnbed4",
        "outputId": "9870c8ee-6b16-4eca-8567-e238989935a6"
      },
      "execution_count": 19,
      "outputs": [
        {
          "output_type": "execute_result",
          "data": {
            "text/plain": [
              "True"
            ]
          },
          "metadata": {},
          "execution_count": 19
        }
      ]
    },
    {
      "cell_type": "code",
      "source": [
        "def make_llama_3_prompt(user, system=\"\"):\n",
        "    system_prompt = \"\"\n",
        "    if system != \"\":\n",
        "        system_prompt = (\n",
        "            f\"<|start_header_id|>system<|end_header_id|>\\n\\n{system}\"\n",
        "            f\"<|eot_id|>\"\n",
        "        )\n",
        "    prompt = (f\"<|begin_of_text|>{system_prompt}\"\n",
        "              f\"<|start_header_id|>user<|end_header_id|>\\n\\n\"\n",
        "              f\"{user}\"\n",
        "              f\"<|eot_id|>\"\n",
        "              f\"<|start_header_id|>assistant<|end_header_id|>\\n\\n\"\n",
        "         )\n",
        "    return prompt"
      ],
      "metadata": {
        "id": "JwqKX5nIbiv5"
      },
      "execution_count": 20,
      "outputs": []
    },
    {
      "cell_type": "code",
      "source": [
        "system_prompt = user_prompt = \"You are a helpful assistant.\"\n",
        "user_prompt = \"Please write a birthday card for my good friend Andrew\"\n",
        "prompt3 = make_llama_3_prompt(user_prompt, system_prompt)\n",
        "print(prompt3)"
      ],
      "metadata": {
        "colab": {
          "base_uri": "https://localhost:8080/"
        },
        "id": "UnMIpdgtblTR",
        "outputId": "68e22ca8-eacc-42f5-de31-69132e83e5d4"
      },
      "execution_count": 21,
      "outputs": [
        {
          "output_type": "stream",
          "name": "stdout",
          "text": [
            "<|begin_of_text|><|start_header_id|>system<|end_header_id|>\n",
            "\n",
            "You are a helpful assistant.<|eot_id|><|start_header_id|>user<|end_header_id|>\n",
            "\n",
            "Please write a birthday card for my good friend Andrew<|eot_id|><|start_header_id|>assistant<|end_header_id|>\n",
            "\n",
            "\n"
          ]
        }
      ]
    },
    {
      "cell_type": "code",
      "source": [
        "prompt == prompt3"
      ],
      "metadata": {
        "colab": {
          "base_uri": "https://localhost:8080/"
        },
        "id": "2w14GmjMboyZ",
        "outputId": "38acf460-d4db-48b1-cf11-fb88be15c489"
      },
      "execution_count": 22,
      "outputs": [
        {
          "output_type": "execute_result",
          "data": {
            "text/plain": [
              "True"
            ]
          },
          "metadata": {},
          "execution_count": 22
        }
      ]
    },
    {
      "cell_type": "code",
      "source": [
        "user_prompt = \"Tell me a joke about birthday cake\"\n",
        "prompt = make_llama_3_prompt(user_prompt)\n",
        "print(prompt)"
      ],
      "metadata": {
        "colab": {
          "base_uri": "https://localhost:8080/"
        },
        "id": "zBwGZ84Sbq5-",
        "outputId": "2af40093-5998-4641-d99b-8be370ad8970"
      },
      "execution_count": 23,
      "outputs": [
        {
          "output_type": "stream",
          "name": "stdout",
          "text": [
            "<|begin_of_text|><|start_header_id|>user<|end_header_id|>\n",
            "\n",
            "Tell me a joke about birthday cake<|eot_id|><|start_header_id|>assistant<|end_header_id|>\n",
            "\n",
            "\n"
          ]
        }
      ]
    },
    {
      "cell_type": "code",
      "source": [
        "result = llm.generate(prompt, max_new_tokens=200)\n",
        "print(result)"
      ],
      "metadata": {
        "colab": {
          "base_uri": "https://localhost:8080/"
        },
        "id": "x92EK2yVbw7C",
        "outputId": "348a11ce-f439-420d-a984-aa629bc238f7"
      },
      "execution_count": 24,
      "outputs": [
        {
          "output_type": "stream",
          "name": "stdout",
          "text": [
            "Why was the birthday cake in a bad mood?\n",
            "\n",
            "Because it was feeling crumby!\n"
          ]
        }
      ]
    },
    {
      "cell_type": "code",
      "source": [
        "question = (\n",
        "    \"Given an arbitrary table named `sql_table`, \"\n",
        "    \"write a query to return how many rows are in the table.\"\n",
        "    )\n",
        "prompt = make_llama_3_prompt(question)\n",
        "print(llm.generate(prompt, max_new_tokens=200))"
      ],
      "metadata": {
        "colab": {
          "base_uri": "https://localhost:8080/"
        },
        "id": "J7fJvONdb3e8",
        "outputId": "5515e987-7326-4955-b61b-4ca2d76c0d63"
      },
      "execution_count": 25,
      "outputs": [
        {
          "output_type": "stream",
          "name": "stdout",
          "text": [
            "The query to return the number of rows in a table named `sql_table` is:\n",
            "\n",
            "```sql\n",
            "SELECT COUNT(*) \n",
            "FROM sql_table;\n",
            "```\n",
            "\n",
            "This query uses the `COUNT(*)` function to count the number of rows in the table. The `*` is a wildcard that means \"all columns\", but in this case, we don't need to specify any specific columns because we're only interested in counting the number of rows.\n"
          ]
        }
      ]
    },
    {
      "cell_type": "code",
      "source": [
        "question = \"\"\"Given an arbitrary table named `sql_table`,\n",
        "help me calculate the average `height` where `age` is above 20.\"\"\"\n",
        "prompt = make_llama_3_prompt(question)\n",
        "print(llm.generate(prompt, max_new_tokens=200))"
      ],
      "metadata": {
        "colab": {
          "base_uri": "https://localhost:8080/"
        },
        "id": "oQFfrbQkb84g",
        "outputId": "a4703e6a-d60a-4b29-f92c-b69975f7593a"
      },
      "execution_count": 26,
      "outputs": [
        {
          "output_type": "stream",
          "name": "stdout",
          "text": [
            "Assuming you are using SQL, you can use the following query to calculate the average `height` where `age` is above 20:\n",
            "\n",
            "```sql\n",
            "SELECT AVG(height) \n",
            "FROM sql_table \n",
            "WHERE age > 20;\n",
            "```\n",
            "\n",
            "This query will return the average `height` for all rows in `sql_table` where the `age` is greater than 20.\n"
          ]
        }
      ]
    },
    {
      "cell_type": "code",
      "source": [
        "question = \"\"\"Given an arbitrary table named `sql_table`,\n",
        "Can you calculate the p95 `height` where the `age` is above 20?\"\"\"\n",
        "prompt = make_llama_3_prompt(question)\n",
        "print(llm.generate(prompt, max_new_tokens=200))"
      ],
      "metadata": {
        "colab": {
          "base_uri": "https://localhost:8080/"
        },
        "id": "mqx5iyQkcCcr",
        "outputId": "3a4f2c1e-5df8-44a6-8eb5-bed21fb6789d"
      },
      "execution_count": 27,
      "outputs": [
        {
          "output_type": "stream",
          "name": "stdout",
          "text": [
            "Assuming you are using a SQL database, you can use the following query to calculate the 95th percentile of the `height` column where the `age` is above 20:\n",
            "\n",
            "```sql\n",
            "SELECT PERCENTILE_CONT(0.95) WITHIN GROUP (ORDER BY height) \n",
            "FROM sql_table \n",
            "WHERE age > 20;\n",
            "```\n",
            "\n",
            "This query uses the `PERCENTILE_CONT` function to calculate the 95th percentile of the `height` column. The `WITHIN GROUP (ORDER BY height)` clause specifies that the percentile should be calculated within the group of rows ordered by the `height` column. The `WHERE age > 20` clause filters the rows to only include those where the `age` is above 20.\n",
            "\n",
            "Note that the exact syntax may vary depending on the specific database management system you are using. For example, in MySQL, you would use `PERCENTILE_CONT(0.95) WITHIN GROUP (ORDER BY height) OVER\n"
          ]
        }
      ]
    },
    {
      "cell_type": "code",
      "source": [
        "question = (\"Given an arbitrary table named `sql_table`, \"\n",
        "            \"Can you calculate the p95 `height` \"\n",
        "            \"where the `age` is above 20? Use sqlite.\")\n",
        "prompt = make_llama_3_prompt(question)\n",
        "\n",
        "print(llm.generate(prompt, max_new_tokens=200))"
      ],
      "metadata": {
        "colab": {
          "base_uri": "https://localhost:8080/"
        },
        "id": "RSthUCa2cFhs",
        "outputId": "6765f1e7-44d8-416b-a0d9-0c87958c42e0"
      },
      "execution_count": 28,
      "outputs": [
        {
          "output_type": "stream",
          "name": "stdout",
          "text": [
            "You can use the following SQL query to calculate the 95th percentile of the `height` column where the `age` is above 20:\n",
            "```\n",
            "SELECT PERCENTILE(height) WITHIN GROUP (ORDER BY height) AS p95_height\n",
            "FROM sql_table\n",
            "WHERE age > 20;\n",
            "```\n",
            "This query uses the `PERCENTILE` function to calculate the 95th percentile of the `height` column, and the `WITHIN GROUP` clause to specify that the percentile should be calculated within the group of rows where `age` is greater than 20.\n",
            "\n",
            "Note that the `PERCENTILE` function is only available in SQLite 3.25 and later versions. If you are using an earlier version of SQLite, you can use the `NTILE` function instead:\n",
            "```\n",
            "SELECT NTILE(100, height) AS p95_height\n",
            "FROM (\n",
            "  SELECT height\n",
            "  FROM sql_table\n",
            "  WHERE age > 20\n",
            ") AS subquery\n",
            "ORDER\n"
          ]
        }
      ]
    },
    {
      "cell_type": "code",
      "source": [],
      "metadata": {
        "id": "lgVSLGc7ffGh"
      },
      "execution_count": null,
      "outputs": []
    }
  ]
}