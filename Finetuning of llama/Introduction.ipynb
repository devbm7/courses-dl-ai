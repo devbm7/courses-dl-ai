{
  "cells": [
    {
      "cell_type": "code",
      "execution_count": 14,
      "metadata": {
        "id": "Vjz7eNrMDWtD"
      },
      "outputs": [],
      "source": [
        "import lamini"
      ]
    },
    {
      "cell_type": "code",
      "execution_count": 15,
      "metadata": {
        "id": "Ockq4qS0EHSm"
      },
      "outputs": [],
      "source": [
        "lamini.api_key = \"e650b0aaad19a8ac43752657c882cc3405398636449d41b947d80c399f1d0407\"\n",
        "llm = lamini.Lamini(model_name=\"meta-llama/Meta-Llama-3-8B-Instruct\")"
      ]
    },
    {
      "cell_type": "code",
      "execution_count": 16,
      "metadata": {
        "id": "yYDOD-86I7zb"
      },
      "outputs": [],
      "source": [
        "prompt = \"\"\"\\\n",
        "<|begin_of_text|><|start_header_id|>system<|end_header_id|>\n",
        "\n",
        "You are a helpful assistant.<|eot_id|><|start_header_id|>user<|end_header_id|>\n",
        "\n",
        "Please write a birthday card for my good friend Andrew\\\n",
        "<|eot_id|><|start_header_id|>assistant<|end_header_id|>\n",
        "\n",
        "\"\"\"\n"
      ]
    },
    {
      "cell_type": "code",
      "execution_count": 17,
      "metadata": {
        "colab": {
          "base_uri": "https://localhost:8080/"
        },
        "id": "RNIrU2xtZ_Uy",
        "outputId": "a4c50ecf-21f5-4d26-f08e-f8b6f00877df"
      },
      "outputs": [
        {
          "name": "stdout",
          "output_type": "stream",
          "text": [
            "Here's a birthday card message for your friend Andrew:\n",
            "\n",
            "\"Happy birthday to an amazing friend like you, Andrew!\n",
            "\n",
            "On your special day and always, I want you to know how much you mean to me. You bring so much joy, laughter, and adventure into my life, and I'm grateful for our friendship every day.\n",
            "\n",
            "Here's to another year of making unforgettable memories, trying new things, and creating more inside jokes. You deserve all the best, and I hope your birthday is as awesome as you are!\n",
            "\n",
            "Cheers to you, my friend! \"\n",
            "\n",
            "Feel free to modify it as you see fit, and I hope Andrew loves it!\n"
          ]
        }
      ],
      "source": [
        "result = llm.generate(prompt, max_new_tokens=200)\n",
        "print(result)"
      ]
    },
    {
      "cell_type": "code",
      "execution_count": 18,
      "metadata": {
        "colab": {
          "base_uri": "https://localhost:8080/"
        },
        "id": "dBByuet0bafS",
        "outputId": "46056366-f55e-4ab8-f0ae-d62756fadfb8"
      },
      "outputs": [
        {
          "name": "stdout",
          "output_type": "stream",
          "text": [
            "<|begin_of_text|><|start_header_id|>system<|end_header_id|>\n",
            "\n",
            "You are a helpful assistant.<|eot_id|><|start_header_id|>user<|end_header_id|>\n",
            "\n",
            "Please write a birthday card for my good friend Andrew<|eot_id|><|start_header_id|>assistant<|end_header_id|>\n",
            "\n",
            "\n"
          ]
        }
      ],
      "source": [
        "prompt2 = (\n",
        "    \"<|begin_of_text|>\"  # Start of prompt\n",
        "    \"<|start_header_id|>system<|end_header_id|>\\n\\n\"  #  header - system\n",
        "    \"You are a helpful assistant.\"  # system prompt\n",
        "    \"<|eot_id|>\" # end of turn\n",
        "    \"<|start_header_id|>user<|end_header_id|>\\n\\n\" # header - user\n",
        "    \"Please write a birthday card for my good friend Andrew\"\n",
        "    \"<|eot_id|>\" # end of turn\n",
        "    \"<|start_header_id|>assistant<|end_header_id|>\\n\\n\" # header - assistant\n",
        "    )\n",
        "print(prompt2)"
      ]
    },
    {
      "cell_type": "code",
      "execution_count": 19,
      "metadata": {
        "colab": {
          "base_uri": "https://localhost:8080/"
        },
        "id": "zyaRWdtnbed4",
        "outputId": "9870c8ee-6b16-4eca-8567-e238989935a6"
      },
      "outputs": [
        {
          "data": {
            "text/plain": [
              "True"
            ]
          },
          "execution_count": 19,
          "metadata": {},
          "output_type": "execute_result"
        }
      ],
      "source": [
        "prompt == prompt2"
      ]
    },
    {
      "cell_type": "code",
      "execution_count": 20,
      "metadata": {
        "id": "JwqKX5nIbiv5"
      },
      "outputs": [],
      "source": [
        "def make_llama_3_prompt(user, system=\"\"):\n",
        "    system_prompt = \"\"\n",
        "    if system != \"\":\n",
        "        system_prompt = (\n",
        "            f\"<|start_header_id|>system<|end_header_id|>\\n\\n{system}\"\n",
        "            f\"<|eot_id|>\"\n",
        "        )\n",
        "    prompt = (f\"<|begin_of_text|>{system_prompt}\"\n",
        "              f\"<|start_header_id|>user<|end_header_id|>\\n\\n\"\n",
        "              f\"{user}\"\n",
        "              f\"<|eot_id|>\"\n",
        "              f\"<|start_header_id|>assistant<|end_header_id|>\\n\\n\"\n",
        "         )\n",
        "    return prompt"
      ]
    },
    {
      "cell_type": "code",
      "execution_count": 21,
      "metadata": {
        "colab": {
          "base_uri": "https://localhost:8080/"
        },
        "id": "UnMIpdgtblTR",
        "outputId": "68e22ca8-eacc-42f5-de31-69132e83e5d4"
      },
      "outputs": [
        {
          "name": "stdout",
          "output_type": "stream",
          "text": [
            "<|begin_of_text|><|start_header_id|>system<|end_header_id|>\n",
            "\n",
            "You are a helpful assistant.<|eot_id|><|start_header_id|>user<|end_header_id|>\n",
            "\n",
            "Please write a birthday card for my good friend Andrew<|eot_id|><|start_header_id|>assistant<|end_header_id|>\n",
            "\n",
            "\n"
          ]
        }
      ],
      "source": [
        "system_prompt = user_prompt = \"You are a helpful assistant.\"\n",
        "user_prompt = \"Please write a birthday card for my good friend Andrew\"\n",
        "prompt3 = make_llama_3_prompt(user_prompt, system_prompt)\n",
        "print(prompt3)"
      ]
    },
    {
      "cell_type": "code",
      "execution_count": 22,
      "metadata": {
        "colab": {
          "base_uri": "https://localhost:8080/"
        },
        "id": "2w14GmjMboyZ",
        "outputId": "38acf460-d4db-48b1-cf11-fb88be15c489"
      },
      "outputs": [
        {
          "data": {
            "text/plain": [
              "True"
            ]
          },
          "execution_count": 22,
          "metadata": {},
          "output_type": "execute_result"
        }
      ],
      "source": [
        "prompt == prompt3"
      ]
    },
    {
      "cell_type": "code",
      "execution_count": 23,
      "metadata": {
        "colab": {
          "base_uri": "https://localhost:8080/"
        },
        "id": "zBwGZ84Sbq5-",
        "outputId": "2af40093-5998-4641-d99b-8be370ad8970"
      },
      "outputs": [
        {
          "name": "stdout",
          "output_type": "stream",
          "text": [
            "<|begin_of_text|><|start_header_id|>user<|end_header_id|>\n",
            "\n",
            "Tell me a joke about birthday cake<|eot_id|><|start_header_id|>assistant<|end_header_id|>\n",
            "\n",
            "\n"
          ]
        }
      ],
      "source": [
        "user_prompt = \"Tell me a joke about birthday cake\"\n",
        "prompt = make_llama_3_prompt(user_prompt)\n",
        "print(prompt)"
      ]
    },
    {
      "cell_type": "code",
      "execution_count": 24,
      "metadata": {
        "colab": {
          "base_uri": "https://localhost:8080/"
        },
        "id": "x92EK2yVbw7C",
        "outputId": "348a11ce-f439-420d-a984-aa629bc238f7"
      },
      "outputs": [
        {
          "name": "stdout",
          "output_type": "stream",
          "text": [
            "Why was the birthday cake in a bad mood?\n",
            "\n",
            "Because it was feeling crumby!\n"
          ]
        }
      ],
      "source": [
        "result = llm.generate(prompt, max_new_tokens=200)\n",
        "print(result)"
      ]
    },
    {
      "cell_type": "code",
      "execution_count": 25,
      "metadata": {
        "colab": {
          "base_uri": "https://localhost:8080/"
        },
        "id": "J7fJvONdb3e8",
        "outputId": "5515e987-7326-4955-b61b-4ca2d76c0d63"
      },
      "outputs": [
        {
          "name": "stdout",
          "output_type": "stream",
          "text": [
            "The query to return the number of rows in a table named `sql_table` is:\n",
            "\n",
            "```sql\n",
            "SELECT COUNT(*) \n",
            "FROM sql_table;\n",
            "```\n",
            "\n",
            "This query uses the `COUNT(*)` function to count the number of rows in the table. The `*` is a wildcard that means \"all columns\", but in this case, we don't need to specify any specific columns because we're only interested in counting the number of rows.\n"
          ]
        }
      ],
      "source": [
        "question = (\n",
        "    \"Given an arbitrary table named `sql_table`, \"\n",
        "    \"write a query to return how many rows are in the table.\"\n",
        "    )\n",
        "prompt = make_llama_3_prompt(question)\n",
        "print(llm.generate(prompt, max_new_tokens=200))"
      ]
    },
    {
      "cell_type": "code",
      "execution_count": 26,
      "metadata": {
        "colab": {
          "base_uri": "https://localhost:8080/"
        },
        "id": "oQFfrbQkb84g",
        "outputId": "a4703e6a-d60a-4b29-f92c-b69975f7593a"
      },
      "outputs": [
        {
          "name": "stdout",
          "output_type": "stream",
          "text": [
            "Assuming you are using SQL, you can use the following query to calculate the average `height` where `age` is above 20:\n",
            "\n",
            "```sql\n",
            "SELECT AVG(height) \n",
            "FROM sql_table \n",
            "WHERE age > 20;\n",
            "```\n",
            "\n",
            "This query will return the average `height` for all rows in `sql_table` where the `age` is greater than 20.\n"
          ]
        }
      ],
      "source": [
        "question = \"\"\"Given an arbitrary table named `sql_table`,\n",
        "help me calculate the average `height` where `age` is above 20.\"\"\"\n",
        "prompt = make_llama_3_prompt(question)\n",
        "print(llm.generate(prompt, max_new_tokens=200))"
      ]
    },
    {
      "cell_type": "code",
      "execution_count": 27,
      "metadata": {
        "colab": {
          "base_uri": "https://localhost:8080/"
        },
        "id": "mqx5iyQkcCcr",
        "outputId": "3a4f2c1e-5df8-44a6-8eb5-bed21fb6789d"
      },
      "outputs": [
        {
          "name": "stdout",
          "output_type": "stream",
          "text": [
            "Assuming you are using a SQL database, you can use the following query to calculate the 95th percentile of the `height` column where the `age` is above 20:\n",
            "\n",
            "```sql\n",
            "SELECT PERCENTILE_CONT(0.95) WITHIN GROUP (ORDER BY height) \n",
            "FROM sql_table \n",
            "WHERE age > 20;\n",
            "```\n",
            "\n",
            "This query uses the `PERCENTILE_CONT` function to calculate the 95th percentile of the `height` column. The `WITHIN GROUP (ORDER BY height)` clause specifies that the percentile should be calculated within the group of rows ordered by the `height` column. The `WHERE age > 20` clause filters the rows to only include those where the `age` is above 20.\n",
            "\n",
            "Note that the exact syntax may vary depending on the specific database management system you are using. For example, in MySQL, you would use `PERCENTILE_CONT(0.95) WITHIN GROUP (ORDER BY height) OVER\n"
          ]
        }
      ],
      "source": [
        "question = \"\"\"Given an arbitrary table named `sql_table`,\n",
        "Can you calculate the p95 `height` where the `age` is above 20?\"\"\"\n",
        "prompt = make_llama_3_prompt(question)\n",
        "print(llm.generate(prompt, max_new_tokens=200))"
      ]
    },
    {
      "cell_type": "code",
      "execution_count": 28,
      "metadata": {
        "colab": {
          "base_uri": "https://localhost:8080/"
        },
        "id": "RSthUCa2cFhs",
        "outputId": "6765f1e7-44d8-416b-a0d9-0c87958c42e0"
      },
      "outputs": [
        {
          "name": "stdout",
          "output_type": "stream",
          "text": [
            "You can use the following SQL query to calculate the 95th percentile of the `height` column where the `age` is above 20:\n",
            "```\n",
            "SELECT PERCENTILE(height) WITHIN GROUP (ORDER BY height) AS p95_height\n",
            "FROM sql_table\n",
            "WHERE age > 20;\n",
            "```\n",
            "This query uses the `PERCENTILE` function to calculate the 95th percentile of the `height` column, and the `WITHIN GROUP` clause to specify that the percentile should be calculated within the group of rows where `age` is greater than 20.\n",
            "\n",
            "Note that the `PERCENTILE` function is only available in SQLite 3.25 and later versions. If you are using an earlier version of SQLite, you can use the `NTILE` function instead:\n",
            "```\n",
            "SELECT NTILE(100, height) AS p95_height\n",
            "FROM (\n",
            "  SELECT height\n",
            "  FROM sql_table\n",
            "  WHERE age > 20\n",
            ") AS subquery\n",
            "ORDER\n"
          ]
        }
      ],
      "source": [
        "question = (\"Given an arbitrary table named `sql_table`, \"\n",
        "            \"Can you calculate the p95 `height` \"\n",
        "            \"where the `age` is above 20? Use sqlite.\")\n",
        "prompt = make_llama_3_prompt(question)\n",
        "\n",
        "print(llm.generate(prompt, max_new_tokens=200))"
      ]
    },
    {
      "cell_type": "code",
      "execution_count": null,
      "metadata": {
        "id": "lgVSLGc7ffGh"
      },
      "outputs": [],
      "source": []
    }
  ],
  "metadata": {
    "colab": {
      "provenance": []
    },
    "kernelspec": {
      "display_name": "Python 3",
      "name": "python3"
    },
    "language_info": {
      "name": "python"
    }
  },
  "nbformat": 4,
  "nbformat_minor": 0
}
