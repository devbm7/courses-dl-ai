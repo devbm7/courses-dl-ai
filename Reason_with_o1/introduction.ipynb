{
 "cells": [
  {
   "cell_type": "markdown",
   "metadata": {},
   "source": [
    "# Documentation: Reasoning with O1 Model\n",
    "\n",
    "## Introduction\n",
    "The course \"Reasoning with O1 Model\" explores advanced reasoning techniques using the O1 framework. This course equips learners with the ability to model, analyze, and optimize reasoning processes effectively.\n",
    "\n",
    "## Prerequisites\n",
    "Before starting this course, it is recommended to have:\n",
    "- Basic knowledge of machine learning.\n",
    "- Familiarity with Python programming.\n",
    "- Understanding of logical reasoning and models.\n",
    "\n",
    "## Key Concepts and Highlights\n",
    "- **O1 Model Overview**: Introduction to the framework and its theoretical underpinnings.\n",
    "- **Reasoning Techniques**: Step-by-step guidance on reasoning with O1.\n",
    "- **Optimization Strategies**: Techniques to improve model efficiency and performance.\n",
    "- **Applications**: Real-world use cases demonstrating the effectiveness of the O1 model."
   ]
  },
  {
   "cell_type": "code",
   "execution_count": 1,
   "metadata": {},
   "outputs": [],
   "source": [
    "import warnings\n",
    "warnings.filterwarnings(\"ignore\")\n",
    "\n",
    "from helper import get_openai_api_key\n",
    "import os\n",
    "\n",
    "openai_api_key = get_openai_api_key()\n",
    "openai_api_key = os.environ.get('OPENAI_API_KEY', openai_api_key)\n"
   ]
  },
  {
   "cell_type": "code",
   "execution_count": 5,
   "metadata": {},
   "outputs": [
    {
     "name": "stdout",
     "output_type": "stream",
     "text": [
      "ChatCompletionMessage(content='Hello! How can I assist you today?', refusal=None, role='assistant', audio=None, function_call=None, tool_calls=None)\n"
     ]
    }
   ],
   "source": [
    "# from openai import OpenAI\n",
    "# client = OpenAI(openai_api_key)\n",
    "# O1_MODEL = 'o1-mini'\n",
    "from openai import OpenAI\n",
    "client = OpenAI()\n",
    "completion = client.chat.completions.create(\n",
    "    model=\"gpt-4o\",\n",
    "    messages=[\n",
    "        {\"role\": \"system\", \"content\": \"You are a helpful assistant.\"},\n",
    "        {\n",
    "            \"role\": \"user\",\n",
    "            \"content\": \"Hi\"\n",
    "        }\n",
    "    ]\n",
    ")\n",
    "print(completion.choices[0].message)"
   ]
  },
  {
   "cell_type": "code",
   "execution_count": 8,
   "metadata": {},
   "outputs": [
    {
     "name": "stdout",
     "output_type": "stream",
     "text": [
      "ChatCompletionMessage(content='Hello! How can I assist you today?', refusal=None, role='assistant', audio=None, function_call=None, tool_calls=None)\n"
     ]
    }
   ],
   "source": [
    "# client.chat.completions.create(\n",
    "#     model = O1_MODEL,\n",
    "#     messages = [\n",
    "#         {\"role\": \"user\", \"content\": \"Explain the process of Nuclear Fusion in abstract terms.\"}\n",
    "#     ]\n",
    "# )\n",
    "from openai import OpenAI\n",
    "\n",
    "# Create an instance of the OpenAI class\n",
    "client = OpenAI()\n",
    "\n",
    "# Generate a completion using the o1-mini model\n",
    "completion = client.chat.completions.create(\n",
    "    model=\"o1-mini\",\n",
    "    messages=[\n",
    "        {\"role\": \"user\", \"content\": \"You are a helpful assistant.\"},\n",
    "        {\"role\": \"user\", \"content\": \"Hi\"}\n",
    "    ]\n",
    ")\n",
    "\n",
    "# Print the generated message\n",
    "print(completion.choices[0].message)\n"
   ]
  }
 ],
 "metadata": {
  "kernelspec": {
   "display_name": ".venv",
   "language": "python",
   "name": "python3"
  },
  "language_info": {
   "codemirror_mode": {
    "name": "ipython",
    "version": 3
   },
   "file_extension": ".py",
   "mimetype": "text/x-python",
   "name": "python",
   "nbconvert_exporter": "python",
   "pygments_lexer": "ipython3",
   "version": "3.12.8"
  }
 },
 "nbformat": 4,
 "nbformat_minor": 2
}
