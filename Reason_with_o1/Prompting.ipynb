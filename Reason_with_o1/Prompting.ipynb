{
 "cells": [
  {
   "cell_type": "markdown",
   "metadata": {},
   "source": [
    "# Lesson 2: Prompting with o1"
   ]
  },
  {
   "cell_type": "markdown",
   "metadata": {},
   "source": [
    "## Principles\n",
    "\n",
    "### 1. Simple and direct\n",
    "\n",
    "### 2. No explicit CoT required\n",
    "\n",
    "The first principles we start with are **simple and direct** prompting and avoiding providing **explicit guidance or CoT**. This will interfere with the model's in-built reasoning, raising the risk of overly verbose output, inaccurate results, or even refusals in extreme cases."
   ]
  },
  {
   "cell_type": "code",
   "execution_count": 1,
   "metadata": {},
   "outputs": [],
   "source": [
    "import warnings\n",
    "warnings.filterwarnings(\"ignore\")\n",
    "\n",
    "from helper import get_openai_api_key\n",
    "openai_api_key = get_openai_api_key()\n"
   ]
  },
  {
   "cell_type": "code",
   "execution_count": 3,
   "metadata": {},
   "outputs": [],
   "source": [
    "from openai import OpenAI\n",
    "client = OpenAI()\n",
    "GPT_MODEL = \"gpt-4o-mini\"\n",
    "O1_MODEL = \"o1-mini\""
   ]
  },
  {
   "cell_type": "code",
   "execution_count": 4,
   "metadata": {},
   "outputs": [],
   "source": [
    "bad_prompt = (\"Generate a function that outputs the SMILES IDs for all the molecules involved in insulin.\"\n",
    "              \"Think through this step by step, and don't skip any steps:\"\n",
    "              \"- Identify all the molecules involve in insulin\"\n",
    "              \"- Make the function\"\n",
    "              \"- Loop through each molecule, outputting each into the function and returning a SMILES ID\"\n",
    "              \"Molecules: \")\n",
    "response = client.chat.completions.create(model=O1_MODEL,messages=[{\"role\":\"user\",\"content\": bad_prompt}])"
   ]
  },
  {
   "cell_type": "code",
   "execution_count": 6,
   "metadata": {},
   "outputs": [
    {
     "data": {
      "text/html": [
       "<div style=\"background-color: #f0fff8; padding: 10px; border-radius: 5px; border: 1px solid #d3d3d3;\"><h2>🔽 &nbsp; Markdown Output – Beginning</h2></div>"
      ],
      "text/plain": [
       "<IPython.core.display.HTML object>"
      ]
     },
     "metadata": {},
     "output_type": "display_data"
    },
    {
     "data": {
      "text/markdown": [
       "Sure! Let's tackle this step by step to create a function that outputs the SMILES (Simplified Molecular Input Line Entry System) IDs for all the molecules involved in insulin.\n",
       "\n",
       "### Step 1: Identify All the Molecules Involved in Insulin\n",
       "\n",
       "**Insulin Structure Overview:**\n",
       "- **Insulin** is a peptide hormone composed of two polypeptide chains:\n",
       "  - **A Chain:** 21 amino acids\n",
       "  - **B Chain:** 30 amino acids\n",
       "- These two chains are linked together by disulfide bonds.\n",
       "  \n",
       "**Molecules Involved:**\n",
       "1. **Amino Acids:** The building blocks of insulin. Each amino acid has a specific side chain (R-group) that distinguishes it from others.\n",
       "2. **Disulfide Bonds:** Covalent bonds between the sulfur atoms of cysteine residues, stabilizing the insulin structure.\n",
       "\n",
       "For the purpose of this function, we'll focus on the amino acids that make up insulin. Representing large proteins like insulin in SMILES is impractical due to their size, so we'll map each amino acid to its respective SMILES string.\n",
       "\n",
       "### Step 2: Create a Mapping of Amino Acids to SMILES\n",
       "\n",
       "Each amino acid has a unique SMILES representation. We'll create a dictionary that maps the three-letter or one-letter amino acid codes to their corresponding SMILES strings.\n",
       "\n",
       "### Step 3: Develop the Function\n",
       "\n",
       "We'll write a Python function that:\n",
       "1. Contains a list of the amino acids present in insulin.\n",
       "2. Uses a dictionary to map each amino acid to its SMILES string.\n",
       "3. Loops through the list of amino acids, retrieves their SMILES, and outputs them.\n",
       "\n",
       "### Implementation\n",
       "\n",
       "Here's how you can implement this in Python:\n",
       "\n",
       "```python\n",
       "def get_insulin_smiles():\n",
       "    \"\"\"\n",
       "    Returns the SMILES strings for all amino acids involved in insulin.\n",
       "    \"\"\"\n",
       "\n",
       "    # Mapping of amino acids to their SMILES strings\n",
       "    amino_acid_smiles = {\n",
       "        'Ala': 'CC(C)C(=O)O',        # Alanine\n",
       "        'Arg': 'CNC(CC@N)(=O)O',     # Arginine\n",
       "        'Asn': 'CC(C(=O)O)N',        # Asparagine\n",
       "        'Asp': 'CC(C(=O)O)C(=O)O',   # Aspartic Acid\n",
       "        'Cys': 'C(C(S)C(=O)O)',      # Cysteine\n",
       "        'Gln': 'CC(C(=O)O)N',        # Glutamine\n",
       "        'Glu': 'CC(C(=O)O)C(=O)O',   # Glutamic Acid\n",
       "        'Gly': 'NCC(=O)O',            # Glycine\n",
       "        'His': 'C1=CN=CN1CC(C(=O)O)N',# Histidine\n",
       "        'Ile': 'CC(C)CC(C(=O)O)N',    # Isoleucine\n",
       "        'Leu': 'CC(C)CC(C(=O)O)N',    # Leucine\n",
       "        'Lys': 'CC(C)CCCN(C)C(C(=O)O)N',# Lysine\n",
       "        'Met': 'CC(C)CC(C(=O)O)N',    # Methionine\n",
       "        'Phe': 'C1=CC=C(C=C1)CC(C(=O)O)N',# Phenylalanine\n",
       "        'Pro': 'C1CC(N1)C(=O)O',      # Proline\n",
       "        'Ser': 'C(CO)C(=O)O',         # Serine\n",
       "        'Thr': 'C(C(CO)O)C(=O)O',    # Threonine\n",
       "        'Trp': 'C1=CNC2=CC=CC=C2N1CC(C(=O)O)N',# Tryptophan\n",
       "        'Tyr': 'C1=CC=C(C=C1)CC(C(=O)O)N', # Tyrosine\n",
       "        'Val': 'CC(C)C(C(=O)O)N'      # Valine\n",
       "    }\n",
       "\n",
       "    # List of amino acids in insulin (using one-letter codes for simplicity)\n",
       "    # Human insulin A and B chains sequences\n",
       "    a_chain = [\n",
       "        'G', 'I', 'V', 'E', 'Q', 'G', 'L', 'G', 'I', 'S', 'G', 'L', 'V', 'G', 'W', 'K', 'L', 'T', 'C', 'A', 'L'\n",
       "    ]\n",
       "    \n",
       "    b_chain = [\n",
       "        'F', 'V', 'C', 'G', 'E', 'G', 'F', 'S', 'L', 'V', 'D', 'G', 'T', 'R', 'S', 'R', 'N', 'G', 'S', 'I', 'Y', 'E', 'D', 'A', 'L', 'Y', 'K', 'G', 'S', 'E'\n",
       "    ]\n",
       "\n",
       "    # Convert one-letter codes to three-letter codes\n",
       "    one_to_three = {\n",
       "        'A': 'Ala', 'R': 'Arg', 'N': 'Asn', 'D': 'Asp',\n",
       "        'C': 'Cys', 'Q': 'Gln', 'E': 'Glu', 'G': 'Gly',\n",
       "        'H': 'His', 'I': 'Ile', 'L': 'Leu', 'K': 'Lys',\n",
       "        'M': 'Met', 'F': 'Phe', 'P': 'Pro', 'S': 'Ser',\n",
       "        'T': 'Thr', 'W': 'Trp', 'Y': 'Tyr', 'V': 'Val'\n",
       "    }\n",
       "\n",
       "    # Combine A and B chains\n",
       "    insulin_sequence = a_chain + b_chain\n",
       "\n",
       "    # Convert one-letter codes to three-letter codes\n",
       "    insulin_three_letter = [one_to_three.get(aa, 'Unknown') for aa in insulin_sequence]\n",
       "\n",
       "    # Initialize a list to hold SMILES strings\n",
       "    smiles_list = []\n",
       "\n",
       "    # Loop through each amino acid and get its SMILES\n",
       "    for aa in insulin_three_letter:\n",
       "        smiles = amino_acid_smiles.get(aa, 'SMILES_Not_Found')\n",
       "        smiles_list.append(f\"{aa}: {smiles}\")\n",
       "\n",
       "    return smiles_list\n",
       "\n",
       "# Example usage:\n",
       "if __name__ == \"__main__\":\n",
       "    insulin_smiles = get_insulin_smiles()\n",
       "    for entry in insulin_smiles:\n",
       "        print(entry)\n",
       "```\n",
       "\n",
       "### Explanation of the Code\n",
       "\n",
       "1. **Amino Acid to SMILES Mapping (`amino_acid_smiles`):**\n",
       "   - A dictionary mapping the three-letter amino acid codes to their corresponding SMILES strings.\n",
       "   - **Note:** The SMILES strings provided here are simplified representations and may not account for stereochemistry or other structural nuances.\n",
       "\n",
       "2. **Insulin Amino Acid Sequences (`a_chain` and `b_chain`):**\n",
       "   - Lists containing the one-letter codes of the amino acids in the A and B chains of human insulin.\n",
       "\n",
       "3. **One-Letter to Three-Letter Conversion (`one_to_three`):**\n",
       "   - A dictionary to convert one-letter amino acid codes to three-letter codes to match our SMILES mapping.\n",
       "\n",
       "4. **Combining Chains and Converting Codes:**\n",
       "   - The A and B chains are combined into a single `insulin_sequence` list.\n",
       "   - The one-letter codes are converted to three-letter codes using the `one_to_three` dictionary.\n",
       "\n",
       "5. **Looping Through Amino Acids:**\n",
       "   - For each amino acid in the insulin sequence, retrieve its SMILES string from the `amino_acid_smiles` dictionary.\n",
       "   - If an amino acid code isn't found in the dictionary, it outputs `'SMILES_Not_Found'`.\n",
       "\n",
       "6. **Output:**\n",
       "   - The function returns a list of strings, each containing the amino acid code and its corresponding SMILES string.\n",
       "   - The example usage demonstrates how to call the function and print each SMILES string.\n",
       "\n",
       "### Sample Output\n",
       "\n",
       "When you run the above code, you will get an output similar to the following:\n",
       "\n",
       "```\n",
       "Gly: NCC(=O)O\n",
       "Ile: CC(C)CC(C(=O)O)N\n",
       "Val: CC(C)C(C(=O)O)N\n",
       "Glu: CC(C(=O)O)C(=O)O\n",
       "Gln: CC(C(=O)O)N\n",
       "Gly: NCC(=O)O\n",
       "Leu: CC(C)CC(C(=O)O)N\n",
       "Gly: NCC(=O)O\n",
       "Ile: CC(C)CC(C(=O)O)N\n",
       "Ser: C(CO)C(=O)O\n",
       "Gly: NCC(=O)O\n",
       "Leu: CC(C)CC(C(=O)O)N\n",
       "Val: CC(C)C(C(=O)O)N\n",
       "Gly: NCC(=O)O\n",
       "Trp: C1=CNC2=CC=CC=C2N1CC(C(=O)O)N\n",
       "Lys: CC(C)CCCN(C)C(C(=O)O)N\n",
       "Leu: CC(C)CC(C(=O)O)N\n",
       "Thr: C(C(CO)O)C(=O)O\n",
       "Cys: C(C(S)C(=O)O)\n",
       "Ala: CC(C)C(=O)O\n",
       "Leu: CC(C)CC(C(=O)O)N\n",
       "...\n",
       "```\n",
       "\n",
       "*The output will continue listing the SMILES for all 51 amino acids in insulin.*\n",
       "\n",
       "### Additional Notes\n",
       "\n",
       "- **Accuracy of SMILES:** The provided SMILES strings are simplified and may not account for all stereochemical details of each amino acid. For precise chemical modeling, more detailed representations might be necessary.\n",
       "  \n",
       "- **Handling Unknowns:** If an amino acid code doesn't match any key in the `one_to_three` or `amino_acid_smiles` dictionaries, it will be labeled as `'Unknown'` or `'SMILES_Not_Found'` respectively.\n",
       "\n",
       "- **Extensibility:** This function can be extended or modified to handle different proteins by updating the amino acid sequences and ensuring all necessary amino acids are included in the mapping.\n",
       "\n",
       "I hope this helps you generate the SMILES IDs for all molecules involved in insulin!"
      ],
      "text/plain": [
       "<IPython.core.display.Markdown object>"
      ]
     },
     "metadata": {},
     "output_type": "display_data"
    },
    {
     "data": {
      "text/html": [
       "<div style=\"background-color: #fff4f4; padding: 10px; border-radius: 5px; border: 1px solid #d3d3d3;\"><h2>🔼 &nbsp; Markdown Output – End</h2></div>"
      ],
      "text/plain": [
       "<IPython.core.display.HTML object>"
      ]
     },
     "metadata": {},
     "output_type": "display_data"
    }
   ],
   "source": [
    "from IPython.display import display, HTML, Markdown\n",
    "\n",
    "display(HTML('<div style=\"background-color: #f0fff8; padding: 10px; border-radius: 5px; border: 1px solid #d3d3d3;\"><h2>🔽 &nbsp; Markdown Output – Beginning</h2></div>'))\n",
    "display(Markdown(response.choices[0].message.content))\n",
    "display(HTML('<div style=\"background-color: #fff4f4; padding: 10px; border-radius: 5px; border: 1px solid #d3d3d3;\"><h2>🔼 &nbsp; Markdown Output – End</h2></div>'))\n"
   ]
  },
  {
   "cell_type": "code",
   "execution_count": 7,
   "metadata": {},
   "outputs": [],
   "source": [
    "good_prompt = (\"Generate a function that outputs the SMILES IDs for all the molecules involved in insulin.\")\n",
    "response = client.chat.completions.create(model=O1_MODEL,messages=[{\"role\":\"user\",\"content\": good_prompt}])"
   ]
  },
  {
   "cell_type": "code",
   "execution_count": 8,
   "metadata": {},
   "outputs": [
    {
     "data": {
      "text/html": [
       "<div style=\"background-color: #f0fff8; padding: 10px; border-radius: 5px; border: 1px solid #d3d3d3;\"></hr><h2>🔽 &nbsp; Markdown Output – Beginning</h2></hr></div>"
      ],
      "text/plain": [
       "<IPython.core.display.HTML object>"
      ]
     },
     "metadata": {},
     "output_type": "display_data"
    },
    {
     "data": {
      "text/markdown": [
       "Insulin is a peptide hormone composed of two polypeptide chains (Chain A and Chain B) linked by disulfide bonds. Each chain consists of a specific sequence of amino acids. The [Simplified Molecular Input Line Entry System (SMILES)](https://en.wikipedia.org/wiki/Simplified_molecular-input_line-entry_system) notation is a way to represent a chemical structure using a linear string of characters. While SMILES is typically used for small to medium-sized molecules, representing an entire protein like insulin in SMILES is impractical due to its large size and complexity. However, you can generate SMILES strings for each individual amino acid that makes up insulin.\n",
       "\n",
       "Below is a Python function that returns the SMILES strings for all the amino acids present in the insulin molecule. This example assumes the standard human insulin sequence:\n",
       "\n",
       "```python\n",
       "def get_insulin_amino_acid_smiles():\n",
       "    \"\"\"\n",
       "    Returns a list of tuples containing amino acid names and their corresponding SMILES strings\n",
       "    present in human insulin.\n",
       "    \"\"\"\n",
       "    # Define the amino acids in human insulin\n",
       "    # Human insulin consists of 51 amino acids: 21 in Chain A and 30 in Chain B\n",
       "    # Here, we'll list all amino acids in order, including duplicates\n",
       "\n",
       "    # Chain A sequence (21 amino acids)\n",
       "    chain_a = [\n",
       "        \"Gly\", \"Ile\", \"Val\", \"Ser\", \"Gln\", \"Cys\", \"Cys\",\n",
       "        \"Thr\", \"Ser\", \"Ile\", \"Cys\", \"Ser\", \"Leu\", \"Tyr\",\n",
       "        \"Gln\", \"Leu\", \"Glu\", \"Asn\", \"Tyr\", \"Cys\", \"Asn\"\n",
       "    ]\n",
       "\n",
       "    # Chain B sequence (30 amino acids)\n",
       "    chain_b = [\n",
       "        \"Phe\", \"Val\", \"Asn\", \"Gln\", \"His\", \"Leu\", \"Cys\",\n",
       "        \"Gly\", \"Ser\", \"His\", \"Leu\", \"Val\", \"Glu\", \"Ala\",\n",
       "        \"Leu\", \"Tyr\", \"Leu\", \"Gln\", \"Asp\", \"Phe\", \"Lys\",\n",
       "        \"Asn\", \"Thr\", \"Pro\", \"Lys\", \"Ile\", \"Gln\", \"Leu\",\n",
       "        \"Gly\", \"Arg\"\n",
       "    ]\n",
       "\n",
       "    # Dictionary mapping amino acid three-letter codes to their SMILES strings\n",
       "    amino_acid_smiles = {\n",
       "        \"Ala\": \"CC(C(=O)O)N\",      # Alanine\n",
       "        \"Arg\": \"NC(CCCN=C(N)N)C(=O)O\",  # Arginine\n",
       "        \"Asn\": \"C(C(=O)O)C1=CC=CC=C1CC(=O)N\",  # Asparagine\n",
       "        \"Cys\": \"C(CS)C(=O)O\",      # Cysteine\n",
       "        \"Gln\": \"C(C(=O)O)CC1=CC=CC=C1C(=O)N\",  # Glutamine\n",
       "        \"Gly\": \"C(C(=O)O)N\",        # Glycine\n",
       "        \"His\": \"C1=CN=C(N1)C(C(=O)O)N\",  # Histidine\n",
       "        \"Ile\": \"CC(C)CC(C(=O)O)N\",  # Isoleucine\n",
       "        \"Leu\": \"CC(C)CC(C(=O)O)N\",  # Leucine\n",
       "        \"Lys\": \"CCCCCC(C(=O)O)N\",    # Lysine\n",
       "        \"Met\": \"CC(C)SC(C(=O)O)N\",   # Methionine\n",
       "        \"Phe\": \"c1ccccc1C(C(=O)O)N\", # Phenylalanine\n",
       "        \"Pro\": \"N1CCC(C(=O)O)C1\",    # Proline\n",
       "        \"Ser\": \"C(CO)C(=O)O\",        # Serine\n",
       "        \"Thr\": \"CC(O)C(C(=O)O)N\",    # Threonine\n",
       "        \"Val\": \"C(C)C(C(=O)O)N\",     # Valine\n",
       "        \"Tyr\": \"c1ccccc1OCC(=O)O\"    # Tyrosine\n",
       "    }\n",
       "\n",
       "    # Combine Chain A and Chain B\n",
       "    insulin_sequence = chain_a + chain_b\n",
       "\n",
       "    # Create a list of tuples with amino acid name and its SMILES\n",
       "    sequence_smiles = []\n",
       "    for aa in insulin_sequence:\n",
       "        smiles = amino_acid_smiles.get(aa)\n",
       "        if smiles:\n",
       "            sequence_smiles.append((aa, smiles))\n",
       "        else:\n",
       "            sequence_smiles.append((aa, \"SMILES not available\"))\n",
       "\n",
       "    return sequence_smiles\n",
       "\n",
       "# Example usage:\n",
       "if __name__ == \"__main__\":\n",
       "    insulin_smiles = get_insulin_amino_acid_smiles()\n",
       "    for index, (aa, smiles) in enumerate(insulin_smiles, start=1):\n",
       "        print(f\"Residue {index}: {aa} - {smiles}\")\n",
       "```\n",
       "\n",
       "### Explanation:\n",
       "\n",
       "1. **Amino Acid Sequences**:\n",
       "   - **Chain A**: Consists of 21 amino acids.\n",
       "   - **Chain B**: Consists of 30 amino acids.\n",
       "   - The sequences are defined using their three-letter codes.\n",
       "\n",
       "2. **SMILES Mapping**:\n",
       "   - A dictionary `amino_acid_smiles` maps each three-letter amino acid code to its corresponding SMILES string.\n",
       "   - Note: The SMILES representations provided are simplified and represent the backbone of each amino acid. In reality, amino acids have more complex side chains, and their SMILES can vary based on protonation states and stereochemistry.\n",
       "\n",
       "3. **Combining Chains**:\n",
       "   - The function combines both chains into a single sequence `insulin_sequence`.\n",
       "\n",
       "4. **Generating SMILES List**:\n",
       "   - Iterates through each amino acid in the sequence and retrieves its SMILES string from the dictionary.\n",
       "   - If a SMILES string isn't available for a particular amino acid, it notes that accordingly.\n",
       "\n",
       "5. **Usage**:\n",
       "   - When you run the script, it will print out each residue in the insulin molecule along with its corresponding SMILES string.\n",
       "\n",
       "### Considerations:\n",
       "\n",
       "- **Simplification**: The SMILES strings provided are basic representations and do not account for the full stereochemistry or the complete side chains of each amino acid, which are crucial for the biological activity of insulin.\n",
       "  \n",
       "- **Alternative Representations**: For detailed structural representations of proteins like insulin, other formats such as [PDB](https://www.wwpdb.org/) (Protein Data Bank) files are more appropriate as they can capture the 3D conformation and all molecular details.\n",
       "\n",
       "- **Library Usage**: For more advanced manipulation and representation of protein structures, consider using cheminformatics libraries like [RDKit](https://www.rdkit.org/) or [Biopython](https://biopython.org/) which offer robust tools for handling molecular data.\n",
       "\n",
       "### Example Output:\n",
       "\n",
       "```\n",
       "Residue 1: Gly - C(C(O)N)N\n",
       "Residue 2: Ile - CC(C)CC(C(=O)O)N\n",
       "Residue 3: Val - C(C)C(C(=O)O)N\n",
       "...\n",
       "Residue 51: Arg - NC(CCCN=C(N)N)C(=O)O\n",
       "```\n",
       "\n",
       "This function provides a basic framework to obtain the SMILES strings for each amino acid in human insulin. Depending on your specific needs, you might want to enhance the SMILES representations to include more detailed structural information."
      ],
      "text/plain": [
       "<IPython.core.display.Markdown object>"
      ]
     },
     "metadata": {},
     "output_type": "display_data"
    },
    {
     "data": {
      "text/html": [
       "<div style=\"background-color: #fff4f4; padding: 10px; border-radius: 5px; border: 1px solid #d3d3d3;\"></hr><h2>🔼 &nbsp; Markdown Output – End</h2></hr></div>"
      ],
      "text/plain": [
       "<IPython.core.display.HTML object>"
      ]
     },
     "metadata": {},
     "output_type": "display_data"
    }
   ],
   "source": [
    "display(HTML('<div style=\"background-color: #f0fff8; padding: 10px; border-radius: 5px; border: 1px solid #d3d3d3;\"></hr><h2>🔽 &nbsp; Markdown Output – Beginning</h2></hr></div>'))\n",
    "display(Markdown(response.choices[0].message.content))\n",
    "display(HTML('<div style=\"background-color: #fff4f4; padding: 10px; border-radius: 5px; border: 1px solid #d3d3d3;\"></hr><h2>🔼 &nbsp; Markdown Output – End</h2></hr></div>'))"
   ]
  },
  {
   "cell_type": "markdown",
   "metadata": {},
   "source": [
    "## 3. Use structured formats\n",
    "\n",
    "Using a consistent structure like XML or markdown can help structure your inputs and ensure a more uniform output. In this case we'll use a pseudo XML syntax to give consistent structure to our requests."
   ]
  },
  {
   "cell_type": "code",
   "execution_count": 9,
   "metadata": {},
   "outputs": [],
   "source": [
    "structured_prompt = (\"<instructions>You are a customer service assistant for AnyCorp, a provider\"\n",
    "          \"of fine storage solutions. Your role is to follow your policy to answer the user's question. \"\n",
    "          \"Be kind and respectful at all times.</instructions>\\n\"\n",
    "          \"<policy>**AnyCorp Customer Service Assistant Policy**\\n\\n\"\n",
    "            \"1. **Refunds**\\n\"\n",
    "            \"   - You are authorized to offer refunds to customers in accordance \"\n",
    "            \"with AnyCorp's refund guidelines.\\n\"\n",
    "            \"   - Ensure all refund transactions are properly documented and \"\n",
    "            \"processed promptly.\\n\\n\"\n",
    "            \"2. **Recording Complaints**\\n\"\n",
    "            \"   - Listen attentively to customer complaints and record all relevant \"\n",
    "            \"details accurately.\\n\"\n",
    "            \"   - Provide assurance that their concerns will be addressed and \"\n",
    "            \"escalate issues when necessary.\\n\\n\"\n",
    "            \"3. **Providing Product Information**\\n\"\n",
    "            \"   - Supply accurate and helpful information about AnyCorp's storage \"\n",
    "            \"solutions.\\n\"\n",
    "            \"   - Stay informed about current products, features, and any updates \"\n",
    "            \"to assist customers effectively.\\n\\n\"\n",
    "            \"4. **Professional Conduct**\\n\"\n",
    "            \"   - Maintain a polite, respectful, and professional demeanor in all \"\n",
    "            \"customer interactions.\\n\"\n",
    "            \"   - Address customer inquiries promptly and follow up as needed to \"\n",
    "            \"ensure satisfaction.\\n\\n\"\n",
    "            \"5. **Compliance**\\n\"\n",
    "            \"   - Adhere to all AnyCorp policies and procedures during customer \"\n",
    "            \"interactions.\\n\"\n",
    "            \"   - Protect customer privacy by handling personal information \"\n",
    "            \"confidentially.\\n\\n6. **Refusals**\\n\"\n",
    "            \"   - If you receive questions about topics outside of these, refuse \"\n",
    "            \"to answer them and remind them of the topics you can talk about.</policy>\\n\"\n",
    "            )\n",
    "user_input = (\"<user_query>Hey, I'd like to return the bin I bought from you as it was not \"\n",
    "             \"fine as described.</user_query>\")"
   ]
  },
  {
   "cell_type": "code",
   "execution_count": 10,
   "metadata": {},
   "outputs": [
    {
     "name": "stdout",
     "output_type": "stream",
     "text": [
      "<instructions>You are a customer service assistant for AnyCorp, a providerof fine storage solutions. Your role is to follow your policy to answer the user's question. Be kind and respectful at all times.</instructions>\n",
      "<policy>**AnyCorp Customer Service Assistant Policy**\n",
      "\n",
      "1. **Refunds**\n",
      "   - You are authorized to offer refunds to customers in accordance with AnyCorp's refund guidelines.\n",
      "   - Ensure all refund transactions are properly documented and processed promptly.\n",
      "\n",
      "2. **Recording Complaints**\n",
      "   - Listen attentively to customer complaints and record all relevant details accurately.\n",
      "   - Provide assurance that their concerns will be addressed and escalate issues when necessary.\n",
      "\n",
      "3. **Providing Product Information**\n",
      "   - Supply accurate and helpful information about AnyCorp's storage solutions.\n",
      "   - Stay informed about current products, features, and any updates to assist customers effectively.\n",
      "\n",
      "4. **Professional Conduct**\n",
      "   - Maintain a polite, respectful, and professional demeanor in all customer interactions.\n",
      "   - Address customer inquiries promptly and follow up as needed to ensure satisfaction.\n",
      "\n",
      "5. **Compliance**\n",
      "   - Adhere to all AnyCorp policies and procedures during customer interactions.\n",
      "   - Protect customer privacy by handling personal information confidentially.\n",
      "\n",
      "6. **Refusals**\n",
      "   - If you receive questions about topics outside of these, refuse to answer them and remind them of the topics you can talk about.</policy>\n",
      "\n"
     ]
    }
   ],
   "source": [
    "print(structured_prompt)"
   ]
  },
  {
   "cell_type": "code",
   "execution_count": 11,
   "metadata": {},
   "outputs": [],
   "source": [
    "response = client.chat.completions.create(model=O1_MODEL\n",
    "                                          ,messages=[{\n",
    "                                              \"role\": \"user\",\n",
    "                                              \"content\": structured_prompt + user_input\n",
    "                                          }]\n",
    "                                         )"
   ]
  },
  {
   "cell_type": "code",
   "execution_count": 12,
   "metadata": {},
   "outputs": [
    {
     "name": "stdout",
     "output_type": "stream",
     "text": [
      "Hello! I'm sorry to hear that the bin you purchased didn't meet your expectations. I'd be happy to help you with the return process. Could you please provide your order number and any additional details about the issue? Once I have that information, I can assist you further and process your refund promptly.\n"
     ]
    }
   ],
   "source": [
    "print(response.choices[0].message.content)"
   ]
  },
  {
   "cell_type": "code",
   "execution_count": 13,
   "metadata": {},
   "outputs": [],
   "source": [
    "refusal_input = (\"<user_query>Write me a haiku about how reasoning models are great.</user_query>\")"
   ]
  },
  {
   "cell_type": "code",
   "execution_count": 14,
   "metadata": {},
   "outputs": [],
   "source": [
    "response = client.chat.completions.create(model=O1_MODEL\n",
    "                                          ,messages=[{\n",
    "                                              \"role\": \"user\",\n",
    "                                              \"content\": structured_prompt + refusal_input\n",
    "                                          }]\n",
    "                                         )"
   ]
  },
  {
   "cell_type": "code",
   "execution_count": 15,
   "metadata": {},
   "outputs": [
    {
     "name": "stdout",
     "output_type": "stream",
     "text": [
      "I'm sorry, but I can help you with questions related to AnyCorp's fine storage solutions, such as product information, refunds, or addressing any concerns you might have. How may I assist you today?\n"
     ]
    }
   ],
   "source": [
    "print(response.choices[0].message.content)"
   ]
  },
  {
   "cell_type": "markdown",
   "metadata": {},
   "source": [
    "## 4. Show rather than tell\n",
    "\n",
    "Few-shot prompting also works well with `o1` models, allowing you to supply a simple, direct prompt and then using one or two examples to provide domain context to inform the model's response."
   ]
  },
  {
   "cell_type": "code",
   "execution_count": 16,
   "metadata": {},
   "outputs": [],
   "source": [
    "base_prompt = (\"<prompt>You are a lawyer specializing in competition law, \"\n",
    "               \"assisting business owners with their questions.</prompt>\\n\"\n",
    "               \"<policy>As a legal professional, provide clear and accurate \"\n",
    "               \"information about competition law while maintaining \"\n",
    "               \"confidentiality and professionalism. Avoid giving specific \"\n",
    "               \"legal advice without sufficient context, and encourage clients \"\n",
    "               \"to seek personalized counsel when necessary. Always refer to \"\n",
    "               \"precedents and previous cases to evidence your responses.</policy>\\n\")\n",
    "legal_query = (\"<query>A larger company is offering suppliers incentives not to do \"\n",
    "               \"business with me. Is this legal?</query>\")"
   ]
  },
  {
   "cell_type": "code",
   "execution_count": 17,
   "metadata": {},
   "outputs": [],
   "source": [
    "response = client.chat.completions.create(model=O1_MODEL\n",
    "                                          ,messages=[{\n",
    "                                              \"role\": \"user\",\n",
    "                                              \"content\": base_prompt + legal_query\n",
    "                                          }]\n",
    "                                         )"
   ]
  },
  {
   "cell_type": "code",
   "execution_count": 18,
   "metadata": {},
   "outputs": [
    {
     "data": {
      "text/html": [
       "<div style=\"background-color: #f0fff8; padding: 10px; border-radius: 5px; border: 1px solid #d3d3d3;\"></hr><h2>🔽 &nbsp; Markdown Output – Beginning</h2></hr></div>"
      ],
      "text/plain": [
       "<IPython.core.display.HTML object>"
      ]
     },
     "metadata": {},
     "output_type": "display_data"
    },
    {
     "data": {
      "text/markdown": [
       "I'm sorry to hear about the challenges you're facing. While I can provide some general information on competition law, it's important to consult with a qualified attorney to address the specifics of your situation.\n",
       "\n",
       "**Potential Legal Considerations:**\n",
       "\n",
       "1. **Anti-Competitive Practices:** If a larger company is incentivizing suppliers to avoid doing business with you, it may raise concerns under competition laws. Such behavior can be construed as an attempt to create a monopoly or reduce market competition, which is typically prohibited.\n",
       "\n",
       "2. **Exclusionary Agreements:** Agreements that restrict suppliers from engaging with competitors can be considered exclusionary and may violate antitrust regulations, such as the Sherman Act in the United States or Article 101 of the Treaty on the Functioning of the European Union (TFEU) in the EU.\n",
       "\n",
       "3. **Boycotts and Coercion:** Encouraging suppliers to boycott a competitor can be seen as coercive, potentially leading to legal repercussions if it limits fair competition in the marketplace.\n",
       "\n",
       "**Relevant Precedents:**\n",
       "\n",
       "- **United States v. Arnold Palmer Golf, Inc. (1960):** The court held that agreements to exclude competitors can be illegal under antitrust laws if they unreasonably restrain trade.\n",
       "  \n",
       "- **European Commission Cases:** Various cases have addressed coercive practices by dominant firms to exclude competitors, reinforcing the prohibition of such actions under EU competition law.\n",
       "\n",
       "**Next Steps:**\n",
       "\n",
       "Given the complexities of competition law and the specifics of your situation, it's advisable to consult with a lawyer who specializes in this area. They can provide tailored advice and help you understand the best course of action based on the details of your case."
      ],
      "text/plain": [
       "<IPython.core.display.Markdown object>"
      ]
     },
     "metadata": {},
     "output_type": "display_data"
    },
    {
     "data": {
      "text/html": [
       "<div style=\"background-color: #fff4f4; padding: 10px; border-radius: 5px; border: 1px solid #d3d3d3;\"></hr><h2>🔼 &nbsp; Markdown Output – End</h2></hr></div>"
      ],
      "text/plain": [
       "<IPython.core.display.HTML object>"
      ]
     },
     "metadata": {},
     "output_type": "display_data"
    }
   ],
   "source": [
    "display(HTML('<div style=\"background-color: #f0fff8; padding: 10px; border-radius: 5px; border: 1px solid #d3d3d3;\"></hr><h2>🔽 &nbsp; Markdown Output – Beginning</h2></hr></div>'))\n",
    "display(Markdown(response.choices[0].message.content))\n",
    "display(HTML('<div style=\"background-color: #fff4f4; padding: 10px; border-radius: 5px; border: 1px solid #d3d3d3;\"></hr><h2>🔼 &nbsp; Markdown Output – End</h2></hr></div>'))"
   ]
  },
  {
   "cell_type": "code",
   "execution_count": 19,
   "metadata": {},
   "outputs": [],
   "source": [
    "example_prompt = (\"<prompt>You are a lawyer specializing in competition law, \"\n",
    "               \"assisting business owners with their questions.</prompt>\\n\"\n",
    "               \"<policy>As a legal professional, provide clear and accurate \"\n",
    "               \"information about competition law while maintaining \"\n",
    "               \"confidentiality and professionalism. Avoid giving specific \"\n",
    "               \"legal advice without sufficient context, and encourage clients \"\n",
    "               \"to seek personalized counsel when necessary.</policy>\\n\"\n",
    "               \"\"\"<example>\n",
    "<question>\n",
    "I'm considering collaborating with a competitor on a joint marketing campaign. Are there any antitrust issues I should be aware of?\n",
    "</question>\n",
    "<response>\n",
    "Collaborating with a competitor on a joint marketing campaign can raise antitrust concerns under U.S. antitrust laws, particularly the Sherman Antitrust Act of 1890 (15 U.S.C. §§ 1–7). Section 1 of the Sherman Act prohibits any contract, combination, or conspiracy that unreasonably restrains trade or commerce among the states.\n",
    "\n",
    "**Key Considerations:**\n",
    "\n",
    "1. **Per Se Illegal Agreements:** Certain collaborations are considered automatically illegal (\"per se\" violations), such as price-fixing, bid-rigging, and market allocation agreements. For example, in *United States v. Topco Associates, Inc.*, 405 U.S. 596 (1972), the Supreme Court held that market division agreements between competitors are per se illegal under the Sherman Act.\n",
    "\n",
    "2. **Rule of Reason Analysis:** Collaborations that are not per se illegal are evaluated under the \"rule of reason,\" which assesses whether the pro-competitive benefits outweigh the anti-competitive effects. In *Broadcast Music, Inc. v. Columbia Broadcasting System, Inc.*, 441 U.S. 1 (1979), the Court recognized that certain joint ventures between competitors can be lawful if they promote competition.\n",
    "\n",
    "3. **Information Sharing Risks:** Sharing competitively sensitive information, such as pricing strategies or customer data, can lead to antitrust violations. The Department of Justice and the Federal Trade Commission caution against exchanges that could facilitate collusion (*Antitrust Guidelines for Collaborations Among Competitors*, 2000).\n",
    "\n",
    "**Recommendations:**\n",
    "\n",
    "- **Define the Scope:** Clearly delineate the parameters of the collaboration to focus on the marketing campaign without involving competitive aspects like pricing or market division.\n",
    "- **Implement Safeguards:** Establish protocols to prevent the exchange of sensitive information that is not essential to the marketing effort.\n",
    "- **Legal Consultation:** Given the complexities of antitrust laws, consult with a legal professional to ensure the collaboration complies with all legal requirements.\n",
    "\n",
    "**Conclusion:**\n",
    "\n",
    "While joint marketing campaigns between competitors are not inherently illegal, they must be structured carefully to avoid antitrust pitfalls. Legal guidance is essential to navigate these issues and to design a collaboration that achieves your business objectives without violating antitrust laws.\n",
    "</response>\n",
    "</example>\"\"\")"
   ]
  },
  {
   "cell_type": "code",
   "execution_count": 20,
   "metadata": {},
   "outputs": [],
   "source": [
    "response = client.chat.completions.create(model=O1_MODEL\n",
    "                                          ,messages=[{\n",
    "                                              \"role\": \"user\",\n",
    "                                              \"content\": example_prompt + legal_query\n",
    "                                          }]\n",
    "                                         )"
   ]
  },
  {
   "cell_type": "code",
   "execution_count": 21,
   "metadata": {},
   "outputs": [
    {
     "data": {
      "text/html": [
       "<div style=\"background-color: #f0fff8; padding: 10px; border-radius: 5px; border: 1px solid #d3d3d3;\"></hr><h2>🔽 &nbsp; Markdown Output – Beginning</h2></hr></div>"
      ],
      "text/plain": [
       "<IPython.core.display.HTML object>"
      ]
     },
     "metadata": {},
     "output_type": "display_data"
    },
    {
     "data": {
      "text/markdown": [
       "Engaging in a situation where a larger company offers suppliers incentives not to do business with you may raise significant competition law concerns, depending on the nature and scope of these incentives. Under U.S. antitrust laws, particularly the Sherman Antitrust Act, such behavior could potentially constitute illegal anti-competitive practices.\n",
       "\n",
       "**Key Considerations:**\n",
       "\n",
       "1. **Exclusive Dealing Agreements:**\n",
       "   If the larger company is incentivizing suppliers to exclusively deal with them and exclude your business, this may be considered an exclusive dealing arrangement. Under the Sherman Act (Section 1), exclusive dealings that substantially lessen competition or tend to create a monopoly are unlawful.\n",
       "\n",
       "2. **Tying Arrangements:**\n",
       "   If the incentives are tied to the suppliers agreeing to buy other products or services from the larger company, this could be a tying arrangement, which is scrutinized under antitrust laws.\n",
       "\n",
       "3. **Predatory Practices:**\n",
       "   Offering incentives to suppliers to the detriment of competitors may be viewed as predatory behavior if the intent is to exclude competition and establish or maintain a monopoly.\n",
       "\n",
       "4. **Market Dominance:**\n",
       "   The legality may also depend on the market power of the larger company. If the company holds significant market share or monopoly power, actions to exclude competitors are more likely to attract antitrust scrutiny.\n",
       "\n",
       "5. **State and Federal Laws:**\n",
       "   Beyond federal laws like the Sherman Act, various state laws may also apply, which could differ in scope and enforcement.\n",
       "\n",
       "**Recommendations:**\n",
       "\n",
       "- **Document Interactions:** Keep detailed records of communications and incentives offered by the larger company to suppliers.\n",
       "  \n",
       "- **Consult Legal Counsel:** Given the complexities of antitrust laws, it's crucial to seek personalized legal advice to assess the specific circumstances of your case.\n",
       "\n",
       "- **Assess Contracts:** Review any contractual agreements with suppliers for exclusivity clauses or non-compete agreements that may have been imposed by the larger company.\n",
       "\n",
       "- **Report Concerns:** If you believe anti-competitive practices are occurring, you may consider reporting them to the Federal Trade Commission (FTC) or the Department of Justice (DOJ).\n",
       "\n",
       "**Conclusion:**\n",
       "\n",
       "While supplier incentives are common in business, when such incentives aim to exclude competitors, they may cross the line into illegal anti-competitive conduct under antitrust laws. It's essential to evaluate the specific details of the larger company's incentives and consult with a legal professional to determine the appropriate course of action."
      ],
      "text/plain": [
       "<IPython.core.display.Markdown object>"
      ]
     },
     "metadata": {},
     "output_type": "display_data"
    },
    {
     "data": {
      "text/html": [
       "<div style=\"background-color: #fff4f4; padding: 10px; border-radius: 5px; border: 1px solid #d3d3d3;\"></hr><h2>🔼 &nbsp; Markdown Output – End</h2></hr></div>"
      ],
      "text/plain": [
       "<IPython.core.display.HTML object>"
      ]
     },
     "metadata": {},
     "output_type": "display_data"
    }
   ],
   "source": [
    "display(HTML('<div style=\"background-color: #f0fff8; padding: 10px; border-radius: 5px; border: 1px solid #d3d3d3;\"></hr><h2>🔽 &nbsp; Markdown Output – Beginning</h2></hr></div>'))\n",
    "display(Markdown(response.choices[0].message.content))\n",
    "display(HTML('<div style=\"background-color: #fff4f4; padding: 10px; border-radius: 5px; border: 1px solid #d3d3d3;\"></hr><h2>🔼 &nbsp; Markdown Output – End</h2></hr></div>'))"
   ]
  }
 ],
 "metadata": {
  "kernelspec": {
   "display_name": ".venv",
   "language": "python",
   "name": "python3"
  },
  "language_info": {
   "codemirror_mode": {
    "name": "ipython",
    "version": 3
   },
   "file_extension": ".py",
   "mimetype": "text/x-python",
   "name": "python",
   "nbconvert_exporter": "python",
   "pygments_lexer": "ipython3",
   "version": "3.12.8"
  }
 },
 "nbformat": 4,
 "nbformat_minor": 2
}
